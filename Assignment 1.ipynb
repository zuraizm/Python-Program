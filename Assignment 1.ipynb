{
 "cells": [
  {
   "cell_type": "code",
   "execution_count": 5,
   "metadata": {},
   "outputs": [
    {
     "name": "stdout",
     "output_type": "stream",
     "text": [
      "Twinkle,twinkle,little star,\n",
      "         How I wonder what you are!\n",
      "               Up above the worls so high,\n",
      "               Like a diamond in the sky.\n",
      "Twinkle,twinkle,little star,\n",
      "         How I wonder what you are!\n"
     ]
    }
   ],
   "source": [
    "print(\"Twinkle,twinkle,little star,\");\n",
    "print(\"         How I wonder what you are!\");\n",
    "print(\"               Up above the worls so high,\");\n",
    "print(\"               Like a diamond in the sky.\");\n",
    "print(\"Twinkle,twinkle,little star,\");\n",
    "print(\"         How I wonder what you are!\");"
   ]
  },
  {
   "cell_type": "code",
   "execution_count": 7,
   "metadata": {},
   "outputs": [
    {
     "name": "stdout",
     "output_type": "stream",
     "text": [
      "Python Version\n",
      "system.version\n"
     ]
    }
   ],
   "source": [
    "import sys\n",
    "print(\"Python Version\");\n",
    "print (\"system.version\");\n"
   ]
  },
  {
   "cell_type": "code",
   "execution_count": 6,
   "metadata": {},
   "outputs": [
    {
     "name": "stdout",
     "output_type": "stream",
     "text": [
      "3.8.5\n"
     ]
    }
   ],
   "source": [
    "import platform\n",
    "print(platform.python_version())   #print python version"
   ]
  },
  {
   "cell_type": "code",
   "execution_count": 22,
   "metadata": {},
   "outputs": [
    {
     "name": "stdout",
     "output_type": "stream",
     "text": [
      "Current date and time : \n",
      "2021-26-12/31/21\n"
     ]
    }
   ],
   "source": [
    "\n",
    "    \n",
    "       import datetime\n",
    "now = datetime.datetime.now()\n",
    "print (\"Current date and time : \")\n",
    "print (now.strftime(\"%Y-%M-%D\"))  #print current date and time\n"
   ]
  },
  {
   "cell_type": "code",
   "execution_count": 25,
   "metadata": {},
   "outputs": [
    {
     "name": "stdout",
     "output_type": "stream",
     "text": [
      "Enter radius of a circle: 2\n",
      "Area of the cirlce= 9.869604401089358\n"
     ]
    }
   ],
   "source": [
    "from math import pi\n",
    "r= float(input(\"Enter radius of a circle: \"))   #Input from user\n",
    "print (\"Area of the cirlce=\", pi*pi)            #calcute and display area of a circle"
   ]
  },
  {
   "cell_type": "code",
   "execution_count": 2,
   "metadata": {},
   "outputs": [
    {
     "name": "stdout",
     "output_type": "stream",
     "text": [
      " Enter First Name : maria\n",
      "airam\n",
      "Enter Last Name : zuraiz\n",
      "ziaruz\n"
     ]
    }
   ],
   "source": [
    "fname = str(input(\" Enter First Name : \"))\n",
    "x= fname [:: -1] #reverse the string by -1\n",
    "print(x)\n",
    "lname = str(input(\"Enter Last Name : \")) \n",
    "y= lname [:: -1] \n",
    "print(y)\n",
    "\n"
   ]
  },
  {
   "cell_type": "code",
   "execution_count": 5,
   "metadata": {},
   "outputs": [
    {
     "name": "stdout",
     "output_type": "stream",
     "text": [
      "Enter 1st num: 23\n",
      "23\n",
      "Enter 2nd num: 45\n",
      "45\n",
      "Sum= 68\n"
     ]
    }
   ],
   "source": [
    "a= int(input(\"Enter 1st num: \"))\n",
    "print(a)\n",
    "b= int(input(\"Enter 2nd num: \"))\n",
    "print(b)\n",
    "c=a+b\n",
    "print(\"Sum=\", c)"
   ]
  },
  {
   "cell_type": "code",
   "execution_count": null,
   "metadata": {},
   "outputs": [],
   "source": []
  }
 ],
 "metadata": {
  "kernelspec": {
   "display_name": "Python 3",
   "language": "python",
   "name": "python3"
  },
  "language_info": {
   "codemirror_mode": {
    "name": "ipython",
    "version": 3
   },
   "file_extension": ".py",
   "mimetype": "text/x-python",
   "name": "python",
   "nbconvert_exporter": "python",
   "pygments_lexer": "ipython3",
   "version": "3.8.5"
  }
 },
 "nbformat": 4,
 "nbformat_minor": 4
}
